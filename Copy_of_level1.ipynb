{
  "cells": [
    {
      "cell_type": "markdown",
      "metadata": {
        "id": "view-in-github",
        "colab_type": "text"
      },
      "source": [
        "<a href=\"https://colab.research.google.com/github/Spandana825/cybersecproject/blob/main/Copy_of_level1.ipynb\" target=\"_parent\"><img src=\"https://colab.research.google.com/assets/colab-badge.svg\" alt=\"Open In Colab\"/></a>"
      ]
    },
    {
      "cell_type": "code",
      "execution_count": null,
      "metadata": {
        "colab": {
          "base_uri": "https://localhost:8080/"
        },
        "id": "UX37m4dZgNEI",
        "outputId": "04276acd-807b-408c-9d41-fbf93bf026c5"
      },
      "outputs": [
        {
          "output_type": "stream",
          "name": "stdout",
          "text": [
            "Requirement already satisfied: whois in /usr/local/lib/python3.10/dist-packages (1.20240129.2)\n"
          ]
        }
      ],
      "source": [
        "pip install whois"
      ]
    },
    {
      "cell_type": "code",
      "execution_count": null,
      "metadata": {
        "colab": {
          "base_uri": "https://localhost:8080/"
        },
        "id": "Wpz-LSaJhaRM",
        "outputId": "43a7276c-ab3d-4f4f-b0b5-3b6790607947"
      },
      "outputs": [
        {
          "output_type": "stream",
          "name": "stdout",
          "text": [
            "Requirement already satisfied: pyquery in /usr/local/lib/python3.10/dist-packages (2.0.0)\n",
            "Requirement already satisfied: lxml>=2.1 in /usr/local/lib/python3.10/dist-packages (from pyquery) (4.9.4)\n",
            "Requirement already satisfied: cssselect>=1.2.0 in /usr/local/lib/python3.10/dist-packages (from pyquery) (1.2.0)\n"
          ]
        }
      ],
      "source": [
        "pip install pyquery"
      ]
    },
    {
      "cell_type": "code",
      "execution_count": null,
      "metadata": {
        "id": "mHsswbtQhRO5"
      },
      "outputs": [],
      "source": [
        "import whois\n",
        "from datetime import datetime, timezone\n",
        "import math\n",
        "import pandas as pd\n",
        "import numpy as np\n",
        "from pyquery import PyQuery\n",
        "from requests import get\n",
        "\n",
        "class UrlFeaturizer(object):\n",
        "    def __init__(self, url):\n",
        "        self.url = url\n",
        "        self.domain = url.split('//')[-1].split('/')[0]\n",
        "        self.today = datetime.now().replace(tzinfo=None)\n",
        "\n",
        "        try:\n",
        "            self.whois = whois.query(self.domain).__dict__\n",
        "        except:\n",
        "            self.whois = None\n",
        "\n",
        "        try:\n",
        "            self.response = get(self.url)\n",
        "            self.pq = PyQuery(self.response.text)\n",
        "        except:\n",
        "            self.response = None\n",
        "            self.pq = None\n",
        "\n",
        "    ## URL string Features\n",
        "    def entropy(self):\n",
        "        string = self.url.strip()\n",
        "        prob = [float(string.count(c)) / len(string) for c in dict.fromkeys(list(string))]\n",
        "        entropy = sum([(p * math.log(p) / math.log(2.0)) for p in prob])\n",
        "        return entropy\n",
        "\n",
        "    def ip(self):\n",
        "        string = self.url\n",
        "        flag = False\n",
        "        if (\".\" in string):\n",
        "            elements_array = string.strip().split(\".\")\n",
        "            if(len(elements_array) == 4):\n",
        "                for i in elements_array:\n",
        "                    if (i.isnumeric() and int(i)>=0 and int(i)<=255):\n",
        "                        flag=True\n",
        "                    else:\n",
        "                        flag=False\n",
        "                        break\n",
        "        if flag:\n",
        "            return 1\n",
        "        else:\n",
        "            return 0\n",
        "\n",
        "    def numDigits(self):\n",
        "        digits = [i for i in self.url if i.isdigit()]\n",
        "        return len(digits)\n",
        "\n",
        "    def urlLength(self):\n",
        "        return len(self.url)\n",
        "\n",
        "    def numParameters(self):\n",
        "        params = self.url.split('&')\n",
        "        return len(params) - 1\n",
        "\n",
        "    def numFragments(self):\n",
        "        fragments = self.url.split('#')\n",
        "        return len(fragments) - 1\n",
        "\n",
        "    def numSubDomains(self):\n",
        "        subdomains = self.url.split('http')[-1].split('//')[-1].split('/')\n",
        "        return len(subdomains)-1\n",
        "\n",
        "    def domainExtension(self):\n",
        "        ext = self.url.split('.')[-1].split('/')[0]\n",
        "        return ext\n",
        "\n",
        "    ## URL domain features\n",
        "    def hasHttp(self):\n",
        "        return 'http:' in self.url\n",
        "\n",
        "    def hasHttps(self):\n",
        "        return 'https:' in self.url\n",
        "\n",
        "    def daysSinceRegistration(self):\n",
        "        if self.whois and self.whois['creation_date']:\n",
        "            diff = self.today - self.whois['creation_date'].replace(tzinfo=None)\n",
        "            diff = str(diff).split(' days')[0]\n",
        "            return diff\n",
        "        else:\n",
        "            return 0\n",
        "\n",
        "    def daysSinceExpiration(self):\n",
        "        if self.whois and self.whois['expiration_date']:\n",
        "            diff = self.whois['expiration_date'].replace(tzinfo=None) - self.today\n",
        "            diff = str(diff).split(' days')[0]\n",
        "            return diff\n",
        "        else:\n",
        "            return 0\n",
        "\n",
        "     ## URL Page Features\n",
        "    def bodyLength(self):\n",
        "        if self.pq is not None:\n",
        "            return len(self.pq('html').text()) if self.urlIsLive else 0\n",
        "        else:\n",
        "            return 0\n",
        "\n",
        "    def numTitles(self):\n",
        "        if self.pq is not None:\n",
        "            titles = ['h{}'.format(i) for i in range(7)]\n",
        "            titles = [self.pq(i).items() for i in titles]\n",
        "            return len([item for s in titles for item in s])\n",
        "        else:\n",
        "            return 0\n",
        "\n",
        "    def numImages(self):\n",
        "        if self.pq is not None:\n",
        "            return len([i for i in self.pq('img').items()])\n",
        "        else:\n",
        "            return 0\n",
        "\n",
        "    def numLinks(self):\n",
        "        if self.pq is not None:\n",
        "            return len([i for i in self.pq('a').items()])\n",
        "        else:\n",
        "            return 0\n",
        "\n",
        "    def scriptLength(self):\n",
        "        if self.pq is not None:\n",
        "            return len(self.pq('script').text())\n",
        "        else:\n",
        "            return 0\n",
        "\n",
        "    def specialCharacters(self):\n",
        "        if self.pq is not None:\n",
        "            bodyText = self.pq('html').text()\n",
        "            schars = [i for i in bodyText if not i.isdigit() and not i.isalpha()]\n",
        "            return len(schars)\n",
        "        else:\n",
        "            return 0\n",
        "\n",
        "    def scriptToSpecialCharsRatio(self):\n",
        "        v = self.specialCharacters()\n",
        "        if self.pq is not None and v!=0:\n",
        "            sscr = self.scriptLength()/v\n",
        "        else:\n",
        "            sscr = 0\n",
        "        return sscr\n",
        "\n",
        "    def scriptTobodyRatio(self):\n",
        "        v = self.bodyLength()\n",
        "        if self.pq is not None and v!=0:\n",
        "            sbr = self.scriptLength()/v\n",
        "        else:\n",
        "            sbr = 0\n",
        "        return sbr\n",
        "\n",
        "    def bodyToSpecialCharRatio(self):\n",
        "        v = self.bodyLength()\n",
        "        if self.pq is not None and v!=0:\n",
        "            bscr = self.specialCharacters()/v\n",
        "        else:\n",
        "            bscr = 0\n",
        "        return bscr\n",
        "\n",
        "    def urlIsLive(self):\n",
        "        return self.response == 200\n",
        "\n",
        "    def run(self):\n",
        "        data = {}\n",
        "        data['entropy'] = self.entropy()\n",
        "        data['numDigits'] = self.numDigits()\n",
        "        data['urlLength'] = self.urlLength()\n",
        "        data['numParams'] = self.numParameters()\n",
        "        data['hasHttp'] = self.hasHttp()\n",
        "        data['hasHttps'] = self.hasHttps()\n",
        "        data['urlIsLive'] = self.urlIsLive()\n",
        "        data['bodyLength'] = self.bodyLength()\n",
        "        data['numTitles'] = self.numTitles()\n",
        "        data['numImages'] = self.numImages()\n",
        "        data['numLinks'] = self.numLinks()\n",
        "        data['scriptLength'] = self.scriptLength()\n",
        "        data['specialChars'] = self.specialCharacters()\n",
        "        data['ext'] = self.domainExtension()\n",
        "        data['dsr'] = self.daysSinceRegistration()\n",
        "        data['dse'] = self.daysSinceExpiration()\n",
        "        data['sscr'] = self.scriptToSpecialCharsRatio()\n",
        "        data['sbr'] = self.scriptTobodyRatio()\n",
        "        data['bscr'] = self.bodyToSpecialCharRatio()\n",
        "        data['num_%20'] = self.url.count(\"%20\")\n",
        "        data['num_@'] = self.url.count(\"@\")\n",
        "        data['has_ip'] = self.ip()\n",
        "\n",
        "        return data"
      ]
    },
    {
      "cell_type": "code",
      "execution_count": null,
      "metadata": {
        "colab": {
          "base_uri": "https://localhost:8080/"
        },
        "id": "Rzp4DPFCjuCD",
        "outputId": "b8f50a0b-4278-4c3a-99be-533c4dabc1e3"
      },
      "outputs": [
        {
          "output_type": "stream",
          "name": "stdout",
          "text": [
            "entropy: -3.663532754804254\n",
            "numDigits: 0\n",
            "urlLength: 22\n",
            "numParams: 0\n",
            "hasHttp: False\n",
            "hasHttps: True\n",
            "urlIsLive: False\n",
            "bodyLength: 14746\n",
            "numTitles: 0\n",
            "numImages: 1\n",
            "numLinks: 17\n",
            "scriptLength: 13021\n",
            "specialChars: 4518\n",
            "ext: com\n",
            "dsr: 0\n",
            "dse: 0\n",
            "sscr: 2.8820274457724655\n",
            "sbr: 0.8830191238301912\n",
            "bscr: 0.3063881730638817\n",
            "num_%20: 0\n",
            "num_@: 0\n",
            "has_ip: 0\n"
          ]
        }
      ],
      "source": [
        "# Assuming the UrlFeaturizer class is defined as provided\n",
        "\n",
        "# Example usage:\n",
        "url_to_featurize = \"https://www.google.com\"\n",
        "featurizer = UrlFeaturizer(url_to_featurize)\n",
        "\n",
        "# Run the featurizer to get the features\n",
        "features = featurizer.run()\n",
        "\n",
        "# Display the features\n",
        "for key, value in features.items():\n",
        "    print(f\"{key}: {value}\")\n"
      ]
    },
    {
      "cell_type": "code",
      "execution_count": null,
      "metadata": {
        "colab": {
          "base_uri": "https://localhost:8080/"
        },
        "id": "JIj_Xk2KoU6H",
        "outputId": "da5e6a71-801b-44d2-a447-0841650ef8ee"
      },
      "outputs": [
        {
          "output_type": "stream",
          "name": "stdout",
          "text": [
            "[14746, 0.3063881730638817, 0, 0, -3.663532754804254, False, True, 0, 0, 1, 17, 0, 0, 0, 0, 0.8830191238301912, 13021, 4518, 2.8820274457724655, False, 22]\n"
          ]
        }
      ],
      "source": [
        "order = ['bodyLength', 'bscr', 'dse', 'dsr', 'entropy', 'hasHttp', 'hasHttps',\n",
        "       'has_ip', 'numDigits', 'numImages', 'numLinks', 'numParams',\n",
        "       'numTitles', 'num_%20', 'num_@', 'sbr', 'scriptLength', 'specialChars',\n",
        "       'sscr', 'urlIsLive', 'urlLength']\n",
        "\n",
        "\n",
        "test = []\n",
        "for i in order:\n",
        "\t\ttest.append(features[i])\n",
        "print(test)"
      ]
    },
    {
      "cell_type": "code",
      "execution_count": null,
      "metadata": {
        "colab": {
          "base_uri": "https://localhost:8080/"
        },
        "id": "bfyyBGuVjuFc",
        "outputId": "d8784951-06d1-4439-a9b5-5f905b7fb5a0"
      },
      "outputs": [
        {
          "output_type": "stream",
          "name": "stdout",
          "text": [
            "Label: spam_dataset, Encoded Value: 4\n",
            "Label: Benign_list_big_final, Encoded Value: 0\n",
            "Label: phishing_dataset, Encoded Value: 3\n",
            "Label: Malware_dataset, Encoded Value: 2\n",
            "Label: Defacement, Encoded Value: 1\n",
            "\n",
            "Columns before scaling:\n",
            "Index(['Unnamed: 0', 'bodyLength', 'bscr', 'dse', 'dsr', 'entropy', 'hasHttp',\n",
            "       'hasHttps', 'has_ip', 'numDigits', 'numImages', 'numLinks', 'numParams',\n",
            "       'numTitles', 'num_%20', 'num_@', 'sbr', 'scriptLength', 'specialChars',\n",
            "       'sscr', 'urlIsLive', 'urlLength'],\n",
            "      dtype='object')\n",
            "\n",
            "Columns after scaling:\n",
            "RangeIndex(start=0, stop=21, step=1)\n",
            "Number of columns in the DataFrame: 21\n"
          ]
        }
      ],
      "source": [
        "from sklearn.preprocessing import LabelEncoder\n",
        "from sklearn.preprocessing import MinMaxScaler\n",
        "\n",
        "data = pd.read_csv(\"/content/sample_data/feature.csv\")\n",
        "data.replace(True,1,inplace = True)\n",
        "data.replace(False,0,inplace = True)\n",
        "\n",
        "y = data[\"File\"]\n",
        "data = data.drop(columns = \"File\")\n",
        "\n",
        "encoder = LabelEncoder()\n",
        "encoder.fit(y)\n",
        "Y = encoder.transform(y)\n",
        "# Create a mapping between original labels and their encoded values\n",
        "label_mapping = dict(zip(y, Y))\n",
        "\n",
        "# Print original labels and their encoded forms\n",
        "for label, encoded_value in label_mapping.items():\n",
        "    print(f\"Label: {label}, Encoded Value: {encoded_value}\")\n",
        "\n",
        "# Print column names before scaling\n",
        "print(\"\\nColumns before scaling:\")\n",
        "print(data.columns)\n",
        "data = data.drop(data.columns[0], axis=1)\n",
        "\n",
        "scaler = MinMaxScaler(feature_range=(0, 1))\n",
        "X = pd.DataFrame(scaler.fit_transform(data))\n",
        "print(\"\\nColumns after scaling:\")\n",
        "print(X.columns)\n",
        "\n",
        "\n",
        "num_columns = len(X.columns)\n",
        "print(f\"Number of columns in the DataFrame: {num_columns}\")"
      ]
    },
    {
      "cell_type": "code",
      "source": [
        "from google.colab import drive\n",
        "drive.mount('/content/drive')"
      ],
      "metadata": {
        "colab": {
          "base_uri": "https://localhost:8080/"
        },
        "id": "9RaM6_F4x0pH",
        "outputId": "27237bf8-c02b-4eb6-e829-bb69a38f9a96"
      },
      "execution_count": null,
      "outputs": [
        {
          "output_type": "stream",
          "name": "stdout",
          "text": [
            "Drive already mounted at /content/drive; to attempt to forcibly remount, call drive.mount(\"/content/drive\", force_remount=True).\n"
          ]
        }
      ]
    },
    {
      "cell_type": "code",
      "execution_count": null,
      "metadata": {
        "id": "EnmzRE7yk1xw"
      },
      "outputs": [],
      "source": [
        "from sklearn.model_selection import train_test_split\n",
        "X_train, X_test, y_train, y_test = train_test_split(X, Y, test_size=0.2, random_state=42)\n"
      ]
    },
    {
      "cell_type": "markdown",
      "metadata": {
        "id": "QKIZMaM55W9T"
      },
      "source": [
        "**DECISION TREE**"
      ]
    },
    {
      "cell_type": "code",
      "execution_count": null,
      "metadata": {
        "colab": {
          "base_uri": "https://localhost:8080/"
        },
        "id": "BAY390xCoapQ",
        "outputId": "48e9dc4f-1b3c-4e3a-a8fe-7145df32a695"
      },
      "outputs": [
        {
          "output_type": "stream",
          "name": "stdout",
          "text": [
            "Decision Tree: Accuracy on training Data: 0.662\n",
            "Decision Tree: Accuracy on test Data: 0.670\n",
            "Decision Tree: Precision on training Data: 0.721\n",
            "Decision Tree: Precision on test Data: 0.725\n"
          ]
        }
      ],
      "source": [
        "#importing packages\n",
        "from sklearn.metrics import accuracy_score\n",
        "from sklearn.metrics import precision_score\n",
        "# Decision Tree model\n",
        "from sklearn.tree import DecisionTreeClassifier\n",
        "\n",
        "# instantiate the model with check_input set to False\n",
        "tree = DecisionTreeClassifier(max_depth=5)\n",
        "\n",
        "# fit the model\n",
        "tree.fit(X_train, y_train)\n",
        "\n",
        "#predicting the target value from the model for the samples\n",
        "y_test_tree = tree.predict(X_test)\n",
        "y_train_tree = tree.predict(X_train)\n",
        "\n",
        "#computing the accuracy of the model performance\n",
        "acc_train_tree = accuracy_score(y_train,y_train_tree)\n",
        "acc_test_tree = accuracy_score(y_test,y_test_tree)\n",
        "print(\"Decision Tree: Accuracy on training Data: {:.3f}\".format(acc_train_tree))\n",
        "print(\"Decision Tree: Accuracy on test Data: {:.3f}\".format(acc_test_tree))\n",
        "#computing the accuracy of the model performance\n",
        "precision_train_tree = precision_score(y_train, y_train_tree, average='weighted')\n",
        "precision_test_tree = precision_score(y_test, y_test_tree, average='weighted')\n",
        "\n",
        "print(\"Decision Tree: Precision on training Data: {:.3f}\".format(precision_train_tree))\n",
        "print(\"Decision Tree: Precision on test Data: {:.3f}\".format(precision_test_tree))\n"
      ]
    },
    {
      "cell_type": "markdown",
      "metadata": {
        "id": "TXa3yDPi5ZnN"
      },
      "source": [
        "**RANDOM FOREST**"
      ]
    },
    {
      "cell_type": "code",
      "execution_count": null,
      "metadata": {
        "colab": {
          "base_uri": "https://localhost:8080/"
        },
        "id": "Km__8s_Apcw-",
        "outputId": "86c270b5-5570-40d6-ce3b-831cf5fced51"
      },
      "outputs": [
        {
          "output_type": "stream",
          "name": "stdout",
          "text": [
            "Random forest: Accuracy on training Data: 0.726\n",
            "Random forest: Accuracy on test Data: 0.734\n",
            "Random Forest: Precision on training Data: 0.765\n",
            "Random Forest: Precision on test Data: 0.772\n"
          ]
        }
      ],
      "source": [
        "# Random Forest model\n",
        "from sklearn.ensemble import RandomForestClassifier\n",
        "from sklearn.metrics import precision_score\n",
        "\n",
        "# instantiate the model\n",
        "forest = RandomForestClassifier(max_depth=5)\n",
        "\n",
        "# fit the model\n",
        "forest.fit(X_train, y_train)\n",
        "\n",
        "#predicting the target value from the model for the samples\n",
        "y_test_forest = forest.predict(X_test)\n",
        "y_train_forest = forest.predict(X_train)\n",
        "\n",
        "#computing the accuracy of the model performance\n",
        "acc_train_forest = accuracy_score(y_train,y_train_forest)\n",
        "acc_test_forest = accuracy_score(y_test,y_test_forest)\n",
        "\n",
        "print(\"Random forest: Accuracy on training Data: {:.3f}\".format(acc_train_forest))\n",
        "print(\"Random forest: Accuracy on test Data: {:.3f}\".format(acc_test_forest))\n",
        "\n",
        "#computing the precison of the model performance\n",
        "precision_train_forest = precision_score(y_train, y_train_forest, average='weighted')\n",
        "precision_test_forest = precision_score(y_test, y_test_forest, average='weighted')\n",
        "print(\"Random Forest: Precision on training Data: {:.3f}\".format(precision_train_forest))\n",
        "print(\"Random Forest: Precision on test Data: {:.3f}\".format(precision_test_forest))"
      ]
    },
    {
      "cell_type": "markdown",
      "metadata": {
        "id": "ZDW2yd9L5-xB"
      },
      "source": [
        "**LOGISTIC REGRESSION**"
      ]
    },
    {
      "cell_type": "code",
      "execution_count": null,
      "metadata": {
        "colab": {
          "base_uri": "https://localhost:8080/"
        },
        "id": "NS3txGJ57vRq",
        "outputId": "fc24338c-2739-4e7e-c41d-685148f0ed04"
      },
      "outputs": [
        {
          "output_type": "stream",
          "name": "stdout",
          "text": [
            "Accuracy: 0.5686256532502063\n",
            "Precision: 0.5865382666419349\n"
          ]
        }
      ],
      "source": [
        "from sklearn.linear_model import LogisticRegression\n",
        "from sklearn.metrics import precision_score\n",
        "from sklearn.metrics import accuracy_score, classification_report\n",
        "import warnings\n",
        "warnings.filterwarnings('ignore')\n",
        "\n",
        "# Initialize the Logistic Regression model\n",
        "logistic_model = LogisticRegression()\n",
        "\n",
        "# Fit the model on the training data\n",
        "logistic_model.fit(X_train, y_train)\n",
        "\n",
        "# Make predictions on the test data\n",
        "y_pred = logistic_model.predict(X_test)\n",
        "\n",
        "# Evaluate the model\n",
        "accuracy = accuracy_score(y_test, y_pred)\n",
        "print(f\"Accuracy: {accuracy}\")\n",
        "precision = precision_score(y_test, y_pred, average='weighted')\n",
        "print(f\"Precision: {precision}\")"
      ]
    },
    {
      "cell_type": "markdown",
      "metadata": {
        "id": "b6z1Uv2p4Vx4"
      },
      "source": [
        "**KNN**"
      ]
    },
    {
      "cell_type": "code",
      "execution_count": null,
      "metadata": {
        "colab": {
          "base_uri": "https://localhost:8080/"
        },
        "id": "xWI_W0vG-08E",
        "outputId": "47a84778-3498-4242-8e57-35f86afa0866"
      },
      "outputs": [
        {
          "output_type": "stream",
          "name": "stdout",
          "text": [
            "Accuracy: 0.8787017511689741\n",
            "Precision: 0.8781134996784091\n"
          ]
        }
      ],
      "source": [
        "from sklearn.model_selection import train_test_split\n",
        "from sklearn.neighbors import KNeighborsClassifier\n",
        "from sklearn.metrics import accuracy_score\n",
        "from sklearn.metrics import precision_score\n",
        "\n",
        "# Create a KNN classifier with a specified number of neighbors (e.g., 3)\n",
        "knn_classifier = KNeighborsClassifier(n_neighbors=3)\n",
        "\n",
        "# Train the classifier on the training data\n",
        "knn_classifier.fit(X_train, y_train)\n",
        "\n",
        "# Make predictions on the test data\n",
        "y_pred = knn_classifier.predict(X_test)\n",
        "\n",
        "# Evaluate the accuracy of the model\n",
        "accuracy = accuracy_score(y_test, y_pred)\n",
        "print(f\"Accuracy: {accuracy}\")\n",
        "precision = precision_score(y_test, y_pred, average='weighted')\n",
        "print(f\"Precision: {precision}\")\n"
      ]
    },
    {
      "cell_type": "markdown",
      "metadata": {
        "id": "2Tm0FRtv4nrS"
      },
      "source": [
        "**GRADIENT BOOSTING CLASSIFIER**"
      ]
    },
    {
      "cell_type": "code",
      "execution_count": null,
      "metadata": {
        "colab": {
          "base_uri": "https://localhost:8080/"
        },
        "id": "oyy6i7-5-0-Q",
        "outputId": "d7339d75-41c0-441b-b6c7-c7bf6c722acd"
      },
      "outputs": [
        {
          "output_type": "stream",
          "name": "stdout",
          "text": [
            "Accuracy: 0.8398276336297791\n",
            "Precision: 0.8397522131598922\n"
          ]
        }
      ],
      "source": [
        "from sklearn.model_selection import train_test_split\n",
        "from sklearn.ensemble import GradientBoostingClassifier\n",
        "from sklearn.metrics import accuracy_score, precision_score\n",
        "\n",
        "# Create a GradientBoostingClassifier instance\n",
        "clf = GradientBoostingClassifier(n_estimators=100, learning_rate=0.1, max_depth=3, random_state=42)\n",
        "\n",
        "# Fit the model on the training data\n",
        "clf.fit(X_train, y_train)\n",
        "\n",
        "# Make predictions on the test data\n",
        "predictions = clf.predict(X_test)\n",
        "\n",
        "# Evaluate the model\n",
        "accuracy = accuracy_score(y_test, predictions)\n",
        "print(f\"Accuracy: {accuracy}\")\n",
        "\n",
        "# Calculate precision\n",
        "precision = precision_score(y_test, predictions, average='weighted')\n",
        "print(f\"Precision: {precision}\")"
      ]
    },
    {
      "cell_type": "markdown",
      "metadata": {
        "id": "slbWEKDq-7Jd"
      },
      "source": [
        "**ENSEMBLED**"
      ]
    },
    {
      "cell_type": "markdown",
      "metadata": {
        "id": "RX3jaUl4-G5_"
      },
      "source": [
        "FINAL OUTPUT"
      ]
    },
    {
      "cell_type": "code",
      "execution_count": null,
      "metadata": {
        "colab": {
          "base_uri": "https://localhost:8080/"
        },
        "id": "8WQxRF_2-1Bt",
        "outputId": "43f3d6eb-8bf7-4182-f39b-b1584157ee7f"
      },
      "outputs": [
        {
          "output_type": "stream",
          "name": "stdout",
          "text": [
            "Ensemble Model Accuracy: 0.8925460713303384\n",
            "Ensemble Model Precision: 0.8918383045345821\n",
            "Predicted Label: 3\n"
          ]
        }
      ],
      "source": [
        "from sklearn.ensemble import AdaBoostClassifier\n",
        "from sklearn.tree import DecisionTreeClassifier\n",
        "from sklearn.svm import SVC\n",
        "from sklearn.ensemble import RandomForestClassifier\n",
        "from sklearn.model_selection import train_test_split\n",
        "from sklearn.metrics import accuracy_score\n",
        "from sklearn.metrics import precision_score\n",
        "\n",
        "# Assume you have your dataset and labels\n",
        "# X_train, X_test, y_train, y_test = ...\n",
        "\n",
        "# Create individual models\n",
        "model1 = DecisionTreeClassifier()\n",
        "model2 = SVC(probability=True)  # Note: probability=True for using with AdaBoost\n",
        "model3 = RandomForestClassifier()\n",
        "\n",
        "# Specify base learner for AdaBoost\n",
        "base_model = DecisionTreeClassifier()\n",
        "\n",
        "# Create an ensemble using AdaBoost\n",
        "ensemble_model = AdaBoostClassifier(\n",
        "    base_estimator=base_model,\n",
        "    n_estimators=50,  # Number of boosting rounds\n",
        "    learning_rate=1.0  # Weight applied to each model's contribution\n",
        ")\n",
        "\n",
        "# Train the ensemble model\n",
        "ensemble_model.fit(X_train, y_train)\n",
        "\n",
        "# Make predictions\n",
        "ensemble_predictions = ensemble_model.predict(X_test)\n",
        "\n",
        "# Evaluate the ensemble model\n",
        "accuracy = accuracy_score(y_test, ensemble_predictions)\n",
        "print(f'Ensemble Model Accuracy: {accuracy}')\n",
        "precision = precision_score(y_test, ensemble_predictions, average='weighted')\n",
        "print(f\"Ensemble Model Precision: {precision}\")\n",
        "\n",
        "\n",
        "url_to_featurize = \"espn.go.com/nba/player/_/id/3457/brandon-rush\"\n",
        "featurizer = UrlFeaturizer(url_to_featurize)\n",
        "features = featurizer.run()\n",
        "del features['ext']\n",
        "\n",
        "order = ['bodyLength', 'bscr', 'dse', 'dsr', 'entropy', 'hasHttp', 'hasHttps',\n",
        "         'has_ip', 'numDigits', 'numImages', 'numLinks', 'numParams',\n",
        "         'numTitles', 'num_%20', 'num_@', 'sbr', 'scriptLength', 'specialChars',\n",
        "         'sscr', 'urlIsLive', 'urlLength']\n",
        "\n",
        "# test = []\n",
        "# for i in order:\n",
        "# \t\ttest.append(features[i])\n",
        "# print(test)\n",
        "\n",
        "modified_dict = {key: features.get(key, None) for key in order}\n",
        "\n",
        "# print(\"Number of features in order:\", len(order))\n",
        "# print(\"Number of features in features dictionary:\", len(modified_dict))\n",
        "\n",
        "\n",
        "feature_array = np.array([modified_dict.get(key, None) for key in order]).reshape(1, -1)\n",
        "\n",
        "# Replace 'tree' with your actual trained decision tree model\n",
        "predicted_label = ensemble_model.predict(feature_array)\n",
        "\n",
        "# Display the predicted label\n",
        "print(\"Predicted Label:\", predicted_label[0])"
      ]
    },
    {
      "cell_type": "markdown",
      "metadata": {
        "id": "GJdFYpmW-Knu"
      },
      "source": [
        "OTHER TRIED ENSEMBLED MODELS"
      ]
    },
    {
      "cell_type": "code",
      "execution_count": null,
      "metadata": {
        "colab": {
          "base_uri": "https://localhost:8080/"
        },
        "id": "hptFEBWmAhgc",
        "outputId": "2cdb78f1-2aa8-4de0-d0f0-73e26a9dc17c"
      },
      "outputs": [
        {
          "output_type": "stream",
          "name": "stdout",
          "text": [
            "Ensemble Model Accuracy: 0.8831942789034565\n",
            "Ensemble Model Precision: 0.8831788019932503\n"
          ]
        }
      ],
      "source": [
        "from sklearn.linear_model import LogisticRegression\n",
        "from sklearn.neighbors import KNeighborsClassifier\n",
        "from sklearn.ensemble import GradientBoostingClassifier\n",
        "from sklearn.ensemble import VotingClassifier\n",
        "from sklearn.model_selection import train_test_split\n",
        "from sklearn.metrics import accuracy_score\n",
        "from sklearn.metrics import precision_score\n",
        "\n",
        "# Create individual models\n",
        "model1 = LogisticRegression()\n",
        "model2 = KNeighborsClassifier()\n",
        "model3 = GradientBoostingClassifier()\n",
        "\n",
        "# Create an ensemble of models\n",
        "ensemble_model = VotingClassifier(estimators=[\n",
        "    ('lr', model1),\n",
        "    ('knn', model2),\n",
        "    ('gb', model3)\n",
        "], voting='soft')  # 'soft' for soft voting, 'hard' for hard voting\n",
        "\n",
        "# Train the ensemble model\n",
        "ensemble_model.fit(X_train, y_train)\n",
        "\n",
        "# Make predictions\n",
        "ensemble_predictions = ensemble_model.predict(X_test)\n",
        "\n",
        "# Evaluate the ensemble model\n",
        "accuracy = accuracy_score(y_test, ensemble_predictions)\n",
        "print(f'Ensemble Model Accuracy: {accuracy}')\n",
        "precision = precision_score(y_test, ensemble_predictions, average='weighted')\n",
        "print(f\"Ensemble Model Precision: {precision}\")\n"
      ]
    },
    {
      "cell_type": "code",
      "execution_count": null,
      "metadata": {
        "colab": {
          "base_uri": "https://localhost:8080/"
        },
        "id": "co12UOMtAhi5",
        "outputId": "b7849487-b3c0-445a-d358-f335b9ce7bf4"
      },
      "outputs": [
        {
          "output_type": "stream",
          "name": "stdout",
          "text": [
            "Ensemble Accuracy: 0.8412945814614468\n",
            "Ensemble Model Precision: 0.8413692457415114\n"
          ]
        }
      ],
      "source": [
        "from sklearn.ensemble import GradientBoostingClassifier\n",
        "from sklearn.ensemble import VotingClassifier\n",
        "from sklearn.model_selection import train_test_split\n",
        "from sklearn.metrics import accuracy_score\n",
        "from sklearn.metrics import precision_score\n",
        "\n",
        "# Assuming you have your data in X_train, X_test, y_train, y_test\n",
        "\n",
        "# Split the data into training and testing sets\n",
        "#X_train, X_test, y_train, y_test = train_test_split(features, labels, test_size=0.2, random_state=42)\n",
        "\n",
        "# Define three Gradient Boosting models\n",
        "model1 = GradientBoostingClassifier(n_estimators=100, learning_rate=0.1, max_depth=3, random_state=42)\n",
        "model2 = GradientBoostingClassifier(n_estimators=150, learning_rate=0.05, max_depth=2, random_state=42)\n",
        "model3 = GradientBoostingClassifier(n_estimators=120, learning_rate=0.08, max_depth=4, random_state=42)\n",
        "\n",
        "# Create an ensemble using VotingClassifier\n",
        "ensemble_model = VotingClassifier(estimators=[('model1', model1), ('model2', model2), ('model3', model3)], voting='hard')\n",
        "\n",
        "# Fit the ensemble model on the training data\n",
        "ensemble_model.fit(X_train, y_train)\n",
        "\n",
        "# Make predictions on the test set\n",
        "ensemble_predictions = ensemble_model.predict(X_test)\n",
        "\n",
        "# Evaluate the accuracy of the ensemble model\n",
        "accuracy = accuracy_score(y_test, ensemble_predictions)\n",
        "print(f'Ensemble Accuracy: {accuracy}')\n",
        "precision = precision_score(y_test, ensemble_predictions, average='weighted')\n",
        "print(f\"Ensemble Model Precision: {precision}\")\n",
        "\n"
      ]
    },
    {
      "cell_type": "markdown",
      "metadata": {
        "id": "DtbIjzAvCfgE"
      },
      "source": [
        "**PEDICTION FOR URL**"
      ]
    },
    {
      "cell_type": "code",
      "execution_count": null,
      "metadata": {
        "colab": {
          "base_uri": "https://localhost:8080/"
        },
        "id": "CHE7OBrbAhmb",
        "outputId": "c0bc0e1d-70ae-4df3-d8fc-741955840bae"
      },
      "outputs": [
        {
          "output_type": "stream",
          "name": "stdout",
          "text": [
            "Predicted Label: 0\n"
          ]
        }
      ],
      "source": [
        "url_to_featurize = \"espn.go.com/nba/player/_/id/3457/brandon-rush\"\n",
        "featurizer = UrlFeaturizer(url_to_featurize)\n",
        "features = featurizer.run()\n",
        "del features['ext']\n",
        "\n",
        "order = ['bodyLength', 'bscr', 'dse', 'dsr', 'entropy', 'hasHttp', 'hasHttps',\n",
        "         'has_ip', 'numDigits', 'numImages', 'numLinks', 'numParams',\n",
        "         'numTitles', 'num_%20', 'num_@', 'sbr', 'scriptLength', 'specialChars',\n",
        "         'sscr', 'urlIsLive', 'urlLength']\n",
        "\n",
        "# test = []\n",
        "# for i in order:\n",
        "# \t\ttest.append(features[i])\n",
        "# print(test)\n",
        "\n",
        "modified_dict = {key: features.get(key, None) for key in order}\n",
        "\n",
        "# print(\"Number of features in order:\", len(order))\n",
        "# print(\"Number of features in features dictionary:\", len(modified_dict))\n",
        "\n",
        "\n",
        "feature_array = np.array([modified_dict.get(key, None) for key in order]).reshape(1, -1)\n",
        "\n",
        "# Replace 'tree' with your actual trained decision tree model\n",
        "predicted_label = logistic_model.predict(feature_array)\n",
        "\n",
        "# Display the predicted label\n",
        "print(\"Predicted Label:\", predicted_label[0])"
      ]
    },
    {
      "cell_type": "code",
      "execution_count": null,
      "metadata": {
        "id": "HCxpk8AEuNok",
        "colab": {
          "base_uri": "https://localhost:8080/"
        },
        "outputId": "f95fae6d-7c79-427c-97bd-530cd77d7d5e"
      },
      "outputs": [
        {
          "output_type": "stream",
          "name": "stdout",
          "text": [
            "Requirement already satisfied: ipywidgets in /usr/local/lib/python3.10/dist-packages (7.7.1)\n",
            "Requirement already satisfied: ipykernel>=4.5.1 in /usr/local/lib/python3.10/dist-packages (from ipywidgets) (5.5.6)\n",
            "Requirement already satisfied: ipython-genutils~=0.2.0 in /usr/local/lib/python3.10/dist-packages (from ipywidgets) (0.2.0)\n",
            "Requirement already satisfied: traitlets>=4.3.1 in /usr/local/lib/python3.10/dist-packages (from ipywidgets) (5.7.1)\n",
            "Requirement already satisfied: widgetsnbextension~=3.6.0 in /usr/local/lib/python3.10/dist-packages (from ipywidgets) (3.6.6)\n",
            "Requirement already satisfied: ipython>=4.0.0 in /usr/local/lib/python3.10/dist-packages (from ipywidgets) (7.34.0)\n",
            "Requirement already satisfied: jupyterlab-widgets>=1.0.0 in /usr/local/lib/python3.10/dist-packages (from ipywidgets) (3.0.10)\n",
            "Requirement already satisfied: jupyter-client in /usr/local/lib/python3.10/dist-packages (from ipykernel>=4.5.1->ipywidgets) (6.1.12)\n",
            "Requirement already satisfied: tornado>=4.2 in /usr/local/lib/python3.10/dist-packages (from ipykernel>=4.5.1->ipywidgets) (6.3.2)\n",
            "Requirement already satisfied: setuptools>=18.5 in /usr/local/lib/python3.10/dist-packages (from ipython>=4.0.0->ipywidgets) (67.7.2)\n",
            "Collecting jedi>=0.16 (from ipython>=4.0.0->ipywidgets)\n",
            "  Downloading jedi-0.19.1-py2.py3-none-any.whl (1.6 MB)\n",
            "\u001b[2K     \u001b[90m━━━━━━━━━━━━━━━━━━━━━━━━━━━━━━━━━━━━━━━━\u001b[0m \u001b[32m1.6/1.6 MB\u001b[0m \u001b[31m7.6 MB/s\u001b[0m eta \u001b[36m0:00:00\u001b[0m\n",
            "\u001b[?25hRequirement already satisfied: decorator in /usr/local/lib/python3.10/dist-packages (from ipython>=4.0.0->ipywidgets) (4.4.2)\n",
            "Requirement already satisfied: pickleshare in /usr/local/lib/python3.10/dist-packages (from ipython>=4.0.0->ipywidgets) (0.7.5)\n",
            "Requirement already satisfied: prompt-toolkit!=3.0.0,!=3.0.1,<3.1.0,>=2.0.0 in /usr/local/lib/python3.10/dist-packages (from ipython>=4.0.0->ipywidgets) (3.0.43)\n",
            "Requirement already satisfied: pygments in /usr/local/lib/python3.10/dist-packages (from ipython>=4.0.0->ipywidgets) (2.16.1)\n",
            "Requirement already satisfied: backcall in /usr/local/lib/python3.10/dist-packages (from ipython>=4.0.0->ipywidgets) (0.2.0)\n",
            "Requirement already satisfied: matplotlib-inline in /usr/local/lib/python3.10/dist-packages (from ipython>=4.0.0->ipywidgets) (0.1.6)\n",
            "Requirement already satisfied: pexpect>4.3 in /usr/local/lib/python3.10/dist-packages (from ipython>=4.0.0->ipywidgets) (4.9.0)\n",
            "Requirement already satisfied: notebook>=4.4.1 in /usr/local/lib/python3.10/dist-packages (from widgetsnbextension~=3.6.0->ipywidgets) (6.5.5)\n",
            "Requirement already satisfied: parso<0.9.0,>=0.8.3 in /usr/local/lib/python3.10/dist-packages (from jedi>=0.16->ipython>=4.0.0->ipywidgets) (0.8.3)\n",
            "Requirement already satisfied: jinja2 in /usr/local/lib/python3.10/dist-packages (from notebook>=4.4.1->widgetsnbextension~=3.6.0->ipywidgets) (3.1.3)\n",
            "Requirement already satisfied: pyzmq<25,>=17 in /usr/local/lib/python3.10/dist-packages (from notebook>=4.4.1->widgetsnbextension~=3.6.0->ipywidgets) (23.2.1)\n",
            "Requirement already satisfied: argon2-cffi in /usr/local/lib/python3.10/dist-packages (from notebook>=4.4.1->widgetsnbextension~=3.6.0->ipywidgets) (23.1.0)\n",
            "Requirement already satisfied: jupyter-core>=4.6.1 in /usr/local/lib/python3.10/dist-packages (from notebook>=4.4.1->widgetsnbextension~=3.6.0->ipywidgets) (5.7.1)\n",
            "Requirement already satisfied: nbformat in /usr/local/lib/python3.10/dist-packages (from notebook>=4.4.1->widgetsnbextension~=3.6.0->ipywidgets) (5.9.2)\n",
            "Requirement already satisfied: nbconvert>=5 in /usr/local/lib/python3.10/dist-packages (from notebook>=4.4.1->widgetsnbextension~=3.6.0->ipywidgets) (6.5.4)\n",
            "Requirement already satisfied: nest-asyncio>=1.5 in /usr/local/lib/python3.10/dist-packages (from notebook>=4.4.1->widgetsnbextension~=3.6.0->ipywidgets) (1.6.0)\n",
            "Requirement already satisfied: Send2Trash>=1.8.0 in /usr/local/lib/python3.10/dist-packages (from notebook>=4.4.1->widgetsnbextension~=3.6.0->ipywidgets) (1.8.2)\n",
            "Requirement already satisfied: terminado>=0.8.3 in /usr/local/lib/python3.10/dist-packages (from notebook>=4.4.1->widgetsnbextension~=3.6.0->ipywidgets) (0.18.0)\n",
            "Requirement already satisfied: prometheus-client in /usr/local/lib/python3.10/dist-packages (from notebook>=4.4.1->widgetsnbextension~=3.6.0->ipywidgets) (0.19.0)\n",
            "Requirement already satisfied: nbclassic>=0.4.7 in /usr/local/lib/python3.10/dist-packages (from notebook>=4.4.1->widgetsnbextension~=3.6.0->ipywidgets) (1.0.0)\n",
            "Requirement already satisfied: python-dateutil>=2.1 in /usr/local/lib/python3.10/dist-packages (from jupyter-client->ipykernel>=4.5.1->ipywidgets) (2.8.2)\n",
            "Requirement already satisfied: ptyprocess>=0.5 in /usr/local/lib/python3.10/dist-packages (from pexpect>4.3->ipython>=4.0.0->ipywidgets) (0.7.0)\n",
            "Requirement already satisfied: wcwidth in /usr/local/lib/python3.10/dist-packages (from prompt-toolkit!=3.0.0,!=3.0.1,<3.1.0,>=2.0.0->ipython>=4.0.0->ipywidgets) (0.2.13)\n",
            "Requirement already satisfied: platformdirs>=2.5 in /usr/local/lib/python3.10/dist-packages (from jupyter-core>=4.6.1->notebook>=4.4.1->widgetsnbextension~=3.6.0->ipywidgets) (4.2.0)\n",
            "Requirement already satisfied: jupyter-server>=1.8 in /usr/local/lib/python3.10/dist-packages (from nbclassic>=0.4.7->notebook>=4.4.1->widgetsnbextension~=3.6.0->ipywidgets) (1.24.0)\n",
            "Requirement already satisfied: notebook-shim>=0.2.3 in /usr/local/lib/python3.10/dist-packages (from nbclassic>=0.4.7->notebook>=4.4.1->widgetsnbextension~=3.6.0->ipywidgets) (0.2.3)\n",
            "Requirement already satisfied: lxml in /usr/local/lib/python3.10/dist-packages (from nbconvert>=5->notebook>=4.4.1->widgetsnbextension~=3.6.0->ipywidgets) (4.9.4)\n",
            "Requirement already satisfied: beautifulsoup4 in /usr/local/lib/python3.10/dist-packages (from nbconvert>=5->notebook>=4.4.1->widgetsnbextension~=3.6.0->ipywidgets) (4.12.3)\n",
            "Requirement already satisfied: bleach in /usr/local/lib/python3.10/dist-packages (from nbconvert>=5->notebook>=4.4.1->widgetsnbextension~=3.6.0->ipywidgets) (6.1.0)\n",
            "Requirement already satisfied: defusedxml in /usr/local/lib/python3.10/dist-packages (from nbconvert>=5->notebook>=4.4.1->widgetsnbextension~=3.6.0->ipywidgets) (0.7.1)\n",
            "Requirement already satisfied: entrypoints>=0.2.2 in /usr/local/lib/python3.10/dist-packages (from nbconvert>=5->notebook>=4.4.1->widgetsnbextension~=3.6.0->ipywidgets) (0.4)\n",
            "Requirement already satisfied: jupyterlab-pygments in /usr/local/lib/python3.10/dist-packages (from nbconvert>=5->notebook>=4.4.1->widgetsnbextension~=3.6.0->ipywidgets) (0.3.0)\n",
            "Requirement already satisfied: MarkupSafe>=2.0 in /usr/local/lib/python3.10/dist-packages (from nbconvert>=5->notebook>=4.4.1->widgetsnbextension~=3.6.0->ipywidgets) (2.1.5)\n",
            "Requirement already satisfied: mistune<2,>=0.8.1 in /usr/local/lib/python3.10/dist-packages (from nbconvert>=5->notebook>=4.4.1->widgetsnbextension~=3.6.0->ipywidgets) (0.8.4)\n",
            "Requirement already satisfied: nbclient>=0.5.0 in /usr/local/lib/python3.10/dist-packages (from nbconvert>=5->notebook>=4.4.1->widgetsnbextension~=3.6.0->ipywidgets) (0.9.0)\n",
            "Requirement already satisfied: packaging in /usr/local/lib/python3.10/dist-packages (from nbconvert>=5->notebook>=4.4.1->widgetsnbextension~=3.6.0->ipywidgets) (23.2)\n",
            "Requirement already satisfied: pandocfilters>=1.4.1 in /usr/local/lib/python3.10/dist-packages (from nbconvert>=5->notebook>=4.4.1->widgetsnbextension~=3.6.0->ipywidgets) (1.5.1)\n",
            "Requirement already satisfied: tinycss2 in /usr/local/lib/python3.10/dist-packages (from nbconvert>=5->notebook>=4.4.1->widgetsnbextension~=3.6.0->ipywidgets) (1.2.1)\n",
            "Requirement already satisfied: fastjsonschema in /usr/local/lib/python3.10/dist-packages (from nbformat->notebook>=4.4.1->widgetsnbextension~=3.6.0->ipywidgets) (2.19.1)\n",
            "Requirement already satisfied: jsonschema>=2.6 in /usr/local/lib/python3.10/dist-packages (from nbformat->notebook>=4.4.1->widgetsnbextension~=3.6.0->ipywidgets) (4.19.2)\n",
            "Requirement already satisfied: six>=1.5 in /usr/local/lib/python3.10/dist-packages (from python-dateutil>=2.1->jupyter-client->ipykernel>=4.5.1->ipywidgets) (1.16.0)\n",
            "Requirement already satisfied: argon2-cffi-bindings in /usr/local/lib/python3.10/dist-packages (from argon2-cffi->notebook>=4.4.1->widgetsnbextension~=3.6.0->ipywidgets) (21.2.0)\n",
            "Requirement already satisfied: attrs>=22.2.0 in /usr/local/lib/python3.10/dist-packages (from jsonschema>=2.6->nbformat->notebook>=4.4.1->widgetsnbextension~=3.6.0->ipywidgets) (23.2.0)\n",
            "Requirement already satisfied: jsonschema-specifications>=2023.03.6 in /usr/local/lib/python3.10/dist-packages (from jsonschema>=2.6->nbformat->notebook>=4.4.1->widgetsnbextension~=3.6.0->ipywidgets) (2023.12.1)\n",
            "Requirement already satisfied: referencing>=0.28.4 in /usr/local/lib/python3.10/dist-packages (from jsonschema>=2.6->nbformat->notebook>=4.4.1->widgetsnbextension~=3.6.0->ipywidgets) (0.33.0)\n",
            "Requirement already satisfied: rpds-py>=0.7.1 in /usr/local/lib/python3.10/dist-packages (from jsonschema>=2.6->nbformat->notebook>=4.4.1->widgetsnbextension~=3.6.0->ipywidgets) (0.17.1)\n",
            "Requirement already satisfied: anyio<4,>=3.1.0 in /usr/local/lib/python3.10/dist-packages (from jupyter-server>=1.8->nbclassic>=0.4.7->notebook>=4.4.1->widgetsnbextension~=3.6.0->ipywidgets) (3.7.1)\n",
            "Requirement already satisfied: websocket-client in /usr/local/lib/python3.10/dist-packages (from jupyter-server>=1.8->nbclassic>=0.4.7->notebook>=4.4.1->widgetsnbextension~=3.6.0->ipywidgets) (1.7.0)\n",
            "Requirement already satisfied: cffi>=1.0.1 in /usr/local/lib/python3.10/dist-packages (from argon2-cffi-bindings->argon2-cffi->notebook>=4.4.1->widgetsnbextension~=3.6.0->ipywidgets) (1.16.0)\n",
            "Requirement already satisfied: soupsieve>1.2 in /usr/local/lib/python3.10/dist-packages (from beautifulsoup4->nbconvert>=5->notebook>=4.4.1->widgetsnbextension~=3.6.0->ipywidgets) (2.5)\n",
            "Requirement already satisfied: webencodings in /usr/local/lib/python3.10/dist-packages (from bleach->nbconvert>=5->notebook>=4.4.1->widgetsnbextension~=3.6.0->ipywidgets) (0.5.1)\n",
            "Requirement already satisfied: idna>=2.8 in /usr/local/lib/python3.10/dist-packages (from anyio<4,>=3.1.0->jupyter-server>=1.8->nbclassic>=0.4.7->notebook>=4.4.1->widgetsnbextension~=3.6.0->ipywidgets) (3.6)\n",
            "Requirement already satisfied: sniffio>=1.1 in /usr/local/lib/python3.10/dist-packages (from anyio<4,>=3.1.0->jupyter-server>=1.8->nbclassic>=0.4.7->notebook>=4.4.1->widgetsnbextension~=3.6.0->ipywidgets) (1.3.0)\n",
            "Requirement already satisfied: exceptiongroup in /usr/local/lib/python3.10/dist-packages (from anyio<4,>=3.1.0->jupyter-server>=1.8->nbclassic>=0.4.7->notebook>=4.4.1->widgetsnbextension~=3.6.0->ipywidgets) (1.2.0)\n",
            "Requirement already satisfied: pycparser in /usr/local/lib/python3.10/dist-packages (from cffi>=1.0.1->argon2-cffi-bindings->argon2-cffi->notebook>=4.4.1->widgetsnbextension~=3.6.0->ipywidgets) (2.21)\n",
            "Installing collected packages: jedi\n",
            "Successfully installed jedi-0.19.1\n"
          ]
        }
      ],
      "source": [
        "!pip install ipywidgets"
      ]
    },
    {
      "cell_type": "code",
      "execution_count": null,
      "metadata": {
        "colab": {
          "base_uri": "https://localhost:8080/",
          "height": 113,
          "referenced_widgets": [
            "1617a723c77849c9853d231f3e482998",
            "e985466d1b044daca98a785eb74fe9a2",
            "3a84dde755e64f2b8fa02a72d22aa922",
            "cb9ff6182b104c85a33232999c185dc8",
            "7b15d04c62be4a1d9625ea04684859af",
            "7cc6c353e1df4e12b7cde5b6f47b38a6",
            "72856146f0ad4191a06c854ad172a398",
            "731cc5d200364bf0bca2c51652b4724c",
            "65d3558900e247f2bc183bbcfb248281",
            "3da5855689e84057a3e0284e284087db",
            "2255c7641b37422fafbf610378e1db04",
            "0a37e2673d4e416cbb0fcac8c24b4709",
            "147ae6f3a80343299d55e87f25d800a6",
            "a4e76eed90994f15acb8e3f7edd97a22",
            "0053b3f4d38148d587183e407fc2ce1d",
            "2445f93532124497ae2c028462a17213",
            "9567441064b54625a4487536614c0583",
            "220c52fc0139403fa92f6f30bc820f72"
          ]
        },
        "id": "dkZ-E-sPuNsK",
        "outputId": "abc03eb7-0c9b-42ef-8ad0-769afc82ee73"
      },
      "outputs": [
        {
          "output_type": "display_data",
          "data": {
            "text/plain": [
              "HBox(children=(VBox(children=(Label(value='Enter URL:'), Text(value='', placeholder='Enter URL'), Button(descr…"
            ],
            "application/vnd.jupyter.widget-view+json": {
              "version_major": 2,
              "version_minor": 0,
              "model_id": "1617a723c77849c9853d231f3e482998"
            }
          },
          "metadata": {}
        }
      ],
      "source": [
        "\n",
        "\n",
        "import ipywidgets as widgets\n",
        "from IPython.display import display\n",
        "\n",
        "def process_url(change):\n",
        "    url_to_featurize = url_input.value\n",
        "    featurizer = UrlFeaturizer(url_to_featurize)\n",
        "    features = featurizer.run()\n",
        "\n",
        "    # Call your model for prediction\n",
        "    order = ['bodyLength', 'bscr', 'dse', 'dsr', 'entropy', 'hasHttp', 'hasHttps',\n",
        "         'has_ip', 'numDigits', 'numImages', 'numLinks', 'numParams',\n",
        "         'numTitles', 'num_%20', 'num_@', 'sbr', 'scriptLength', 'specialChars',\n",
        "         'sscr', 'urlIsLive', 'urlLength']\n",
        "\n",
        "    modified_dict = {key: features.get(key, None) for key in order}\n",
        "\n",
        "    feature_array = np.array([modified_dict.get(key, None) for key in order]).reshape(1, -1)\n",
        "\n",
        "    # Replace 'tree' with your actual trained decision tree model\n",
        "    predicted_label = ensemble_model.predict(feature_array)\n",
        "    is_malicious = predicted_label[0]  # Replace with your actual model prediction function\n",
        "\n",
        "    # Display features and result\n",
        "    output_text.value = \"Features:\\n\" + \"\\n\".join([f\"{key}: {value}\" for key, value in features.items()]) + f'\\n\\nIs Malicious: {is_malicious}'\n",
        "\n",
        "# URL Input\n",
        "url_label = widgets.Label(value=\"Enter URL:\")\n",
        "url_input = widgets.Text(placeholder=\"Enter URL\", description=\"\")\n",
        "url_input.observe(process_url, names='value')\n",
        "\n",
        "# Button to process URL\n",
        "process_button = widgets.Button(description=\"Process URL\")\n",
        "process_button.on_click(process_url)\n",
        "\n",
        "# Output Display\n",
        "output_text = widgets.HTML(value=\"Output:\")\n",
        "\n",
        "# Arrange widgets in a layout\n",
        "input_box = widgets.VBox([url_label, url_input, process_button])\n",
        "output_box = widgets.VBox([output_text])\n",
        "ui = widgets.HBox([input_box, output_box])\n",
        "\n",
        "# Display the UI\n",
        "display(ui)\n"
      ]
    }
  ],
  "metadata": {
    "colab": {
      "provenance": [],
      "include_colab_link": true
    },
    "kernelspec": {
      "display_name": "Python 3",
      "name": "python3"
    },
    "language_info": {
      "name": "python"
    },
    "widgets": {
      "application/vnd.jupyter.widget-state+json": {
        "1617a723c77849c9853d231f3e482998": {
          "model_module": "@jupyter-widgets/controls",
          "model_name": "HBoxModel",
          "model_module_version": "1.5.0",
          "state": {
            "_dom_classes": [],
            "_model_module": "@jupyter-widgets/controls",
            "_model_module_version": "1.5.0",
            "_model_name": "HBoxModel",
            "_view_count": null,
            "_view_module": "@jupyter-widgets/controls",
            "_view_module_version": "1.5.0",
            "_view_name": "HBoxView",
            "box_style": "",
            "children": [
              "IPY_MODEL_e985466d1b044daca98a785eb74fe9a2",
              "IPY_MODEL_3a84dde755e64f2b8fa02a72d22aa922"
            ],
            "layout": "IPY_MODEL_cb9ff6182b104c85a33232999c185dc8"
          }
        },
        "e985466d1b044daca98a785eb74fe9a2": {
          "model_module": "@jupyter-widgets/controls",
          "model_name": "VBoxModel",
          "model_module_version": "1.5.0",
          "state": {
            "_dom_classes": [],
            "_model_module": "@jupyter-widgets/controls",
            "_model_module_version": "1.5.0",
            "_model_name": "VBoxModel",
            "_view_count": null,
            "_view_module": "@jupyter-widgets/controls",
            "_view_module_version": "1.5.0",
            "_view_name": "VBoxView",
            "box_style": "",
            "children": [
              "IPY_MODEL_7b15d04c62be4a1d9625ea04684859af",
              "IPY_MODEL_7cc6c353e1df4e12b7cde5b6f47b38a6",
              "IPY_MODEL_72856146f0ad4191a06c854ad172a398"
            ],
            "layout": "IPY_MODEL_731cc5d200364bf0bca2c51652b4724c"
          }
        },
        "3a84dde755e64f2b8fa02a72d22aa922": {
          "model_module": "@jupyter-widgets/controls",
          "model_name": "VBoxModel",
          "model_module_version": "1.5.0",
          "state": {
            "_dom_classes": [],
            "_model_module": "@jupyter-widgets/controls",
            "_model_module_version": "1.5.0",
            "_model_name": "VBoxModel",
            "_view_count": null,
            "_view_module": "@jupyter-widgets/controls",
            "_view_module_version": "1.5.0",
            "_view_name": "VBoxView",
            "box_style": "",
            "children": [
              "IPY_MODEL_65d3558900e247f2bc183bbcfb248281"
            ],
            "layout": "IPY_MODEL_3da5855689e84057a3e0284e284087db"
          }
        },
        "cb9ff6182b104c85a33232999c185dc8": {
          "model_module": "@jupyter-widgets/base",
          "model_name": "LayoutModel",
          "model_module_version": "1.2.0",
          "state": {
            "_model_module": "@jupyter-widgets/base",
            "_model_module_version": "1.2.0",
            "_model_name": "LayoutModel",
            "_view_count": null,
            "_view_module": "@jupyter-widgets/base",
            "_view_module_version": "1.2.0",
            "_view_name": "LayoutView",
            "align_content": null,
            "align_items": null,
            "align_self": null,
            "border": null,
            "bottom": null,
            "display": null,
            "flex": null,
            "flex_flow": null,
            "grid_area": null,
            "grid_auto_columns": null,
            "grid_auto_flow": null,
            "grid_auto_rows": null,
            "grid_column": null,
            "grid_gap": null,
            "grid_row": null,
            "grid_template_areas": null,
            "grid_template_columns": null,
            "grid_template_rows": null,
            "height": null,
            "justify_content": null,
            "justify_items": null,
            "left": null,
            "margin": null,
            "max_height": null,
            "max_width": null,
            "min_height": null,
            "min_width": null,
            "object_fit": null,
            "object_position": null,
            "order": null,
            "overflow": null,
            "overflow_x": null,
            "overflow_y": null,
            "padding": null,
            "right": null,
            "top": null,
            "visibility": null,
            "width": null
          }
        },
        "7b15d04c62be4a1d9625ea04684859af": {
          "model_module": "@jupyter-widgets/controls",
          "model_name": "LabelModel",
          "model_module_version": "1.5.0",
          "state": {
            "_dom_classes": [],
            "_model_module": "@jupyter-widgets/controls",
            "_model_module_version": "1.5.0",
            "_model_name": "LabelModel",
            "_view_count": null,
            "_view_module": "@jupyter-widgets/controls",
            "_view_module_version": "1.5.0",
            "_view_name": "LabelView",
            "description": "",
            "description_tooltip": null,
            "layout": "IPY_MODEL_2255c7641b37422fafbf610378e1db04",
            "placeholder": "​",
            "style": "IPY_MODEL_0a37e2673d4e416cbb0fcac8c24b4709",
            "value": "Enter URL:"
          }
        },
        "7cc6c353e1df4e12b7cde5b6f47b38a6": {
          "model_module": "@jupyter-widgets/controls",
          "model_name": "TextModel",
          "model_module_version": "1.5.0",
          "state": {
            "_dom_classes": [],
            "_model_module": "@jupyter-widgets/controls",
            "_model_module_version": "1.5.0",
            "_model_name": "TextModel",
            "_view_count": null,
            "_view_module": "@jupyter-widgets/controls",
            "_view_module_version": "1.5.0",
            "_view_name": "TextView",
            "continuous_update": true,
            "description": "",
            "description_tooltip": null,
            "disabled": false,
            "layout": "IPY_MODEL_147ae6f3a80343299d55e87f25d800a6",
            "placeholder": "Enter URL",
            "style": "IPY_MODEL_a4e76eed90994f15acb8e3f7edd97a22",
            "value": ""
          }
        },
        "72856146f0ad4191a06c854ad172a398": {
          "model_module": "@jupyter-widgets/controls",
          "model_name": "ButtonModel",
          "model_module_version": "1.5.0",
          "state": {
            "_dom_classes": [],
            "_model_module": "@jupyter-widgets/controls",
            "_model_module_version": "1.5.0",
            "_model_name": "ButtonModel",
            "_view_count": null,
            "_view_module": "@jupyter-widgets/controls",
            "_view_module_version": "1.5.0",
            "_view_name": "ButtonView",
            "button_style": "",
            "description": "Process URL",
            "disabled": false,
            "icon": "",
            "layout": "IPY_MODEL_0053b3f4d38148d587183e407fc2ce1d",
            "style": "IPY_MODEL_2445f93532124497ae2c028462a17213",
            "tooltip": ""
          }
        },
        "731cc5d200364bf0bca2c51652b4724c": {
          "model_module": "@jupyter-widgets/base",
          "model_name": "LayoutModel",
          "model_module_version": "1.2.0",
          "state": {
            "_model_module": "@jupyter-widgets/base",
            "_model_module_version": "1.2.0",
            "_model_name": "LayoutModel",
            "_view_count": null,
            "_view_module": "@jupyter-widgets/base",
            "_view_module_version": "1.2.0",
            "_view_name": "LayoutView",
            "align_content": null,
            "align_items": null,
            "align_self": null,
            "border": null,
            "bottom": null,
            "display": null,
            "flex": null,
            "flex_flow": null,
            "grid_area": null,
            "grid_auto_columns": null,
            "grid_auto_flow": null,
            "grid_auto_rows": null,
            "grid_column": null,
            "grid_gap": null,
            "grid_row": null,
            "grid_template_areas": null,
            "grid_template_columns": null,
            "grid_template_rows": null,
            "height": null,
            "justify_content": null,
            "justify_items": null,
            "left": null,
            "margin": null,
            "max_height": null,
            "max_width": null,
            "min_height": null,
            "min_width": null,
            "object_fit": null,
            "object_position": null,
            "order": null,
            "overflow": null,
            "overflow_x": null,
            "overflow_y": null,
            "padding": null,
            "right": null,
            "top": null,
            "visibility": null,
            "width": null
          }
        },
        "65d3558900e247f2bc183bbcfb248281": {
          "model_module": "@jupyter-widgets/controls",
          "model_name": "HTMLModel",
          "model_module_version": "1.5.0",
          "state": {
            "_dom_classes": [],
            "_model_module": "@jupyter-widgets/controls",
            "_model_module_version": "1.5.0",
            "_model_name": "HTMLModel",
            "_view_count": null,
            "_view_module": "@jupyter-widgets/controls",
            "_view_module_version": "1.5.0",
            "_view_name": "HTMLView",
            "description": "",
            "description_tooltip": null,
            "layout": "IPY_MODEL_9567441064b54625a4487536614c0583",
            "placeholder": "​",
            "style": "IPY_MODEL_220c52fc0139403fa92f6f30bc820f72",
            "value": "Output:"
          }
        },
        "3da5855689e84057a3e0284e284087db": {
          "model_module": "@jupyter-widgets/base",
          "model_name": "LayoutModel",
          "model_module_version": "1.2.0",
          "state": {
            "_model_module": "@jupyter-widgets/base",
            "_model_module_version": "1.2.0",
            "_model_name": "LayoutModel",
            "_view_count": null,
            "_view_module": "@jupyter-widgets/base",
            "_view_module_version": "1.2.0",
            "_view_name": "LayoutView",
            "align_content": null,
            "align_items": null,
            "align_self": null,
            "border": null,
            "bottom": null,
            "display": null,
            "flex": null,
            "flex_flow": null,
            "grid_area": null,
            "grid_auto_columns": null,
            "grid_auto_flow": null,
            "grid_auto_rows": null,
            "grid_column": null,
            "grid_gap": null,
            "grid_row": null,
            "grid_template_areas": null,
            "grid_template_columns": null,
            "grid_template_rows": null,
            "height": null,
            "justify_content": null,
            "justify_items": null,
            "left": null,
            "margin": null,
            "max_height": null,
            "max_width": null,
            "min_height": null,
            "min_width": null,
            "object_fit": null,
            "object_position": null,
            "order": null,
            "overflow": null,
            "overflow_x": null,
            "overflow_y": null,
            "padding": null,
            "right": null,
            "top": null,
            "visibility": null,
            "width": null
          }
        },
        "2255c7641b37422fafbf610378e1db04": {
          "model_module": "@jupyter-widgets/base",
          "model_name": "LayoutModel",
          "model_module_version": "1.2.0",
          "state": {
            "_model_module": "@jupyter-widgets/base",
            "_model_module_version": "1.2.0",
            "_model_name": "LayoutModel",
            "_view_count": null,
            "_view_module": "@jupyter-widgets/base",
            "_view_module_version": "1.2.0",
            "_view_name": "LayoutView",
            "align_content": null,
            "align_items": null,
            "align_self": null,
            "border": null,
            "bottom": null,
            "display": null,
            "flex": null,
            "flex_flow": null,
            "grid_area": null,
            "grid_auto_columns": null,
            "grid_auto_flow": null,
            "grid_auto_rows": null,
            "grid_column": null,
            "grid_gap": null,
            "grid_row": null,
            "grid_template_areas": null,
            "grid_template_columns": null,
            "grid_template_rows": null,
            "height": null,
            "justify_content": null,
            "justify_items": null,
            "left": null,
            "margin": null,
            "max_height": null,
            "max_width": null,
            "min_height": null,
            "min_width": null,
            "object_fit": null,
            "object_position": null,
            "order": null,
            "overflow": null,
            "overflow_x": null,
            "overflow_y": null,
            "padding": null,
            "right": null,
            "top": null,
            "visibility": null,
            "width": null
          }
        },
        "0a37e2673d4e416cbb0fcac8c24b4709": {
          "model_module": "@jupyter-widgets/controls",
          "model_name": "DescriptionStyleModel",
          "model_module_version": "1.5.0",
          "state": {
            "_model_module": "@jupyter-widgets/controls",
            "_model_module_version": "1.5.0",
            "_model_name": "DescriptionStyleModel",
            "_view_count": null,
            "_view_module": "@jupyter-widgets/base",
            "_view_module_version": "1.2.0",
            "_view_name": "StyleView",
            "description_width": ""
          }
        },
        "147ae6f3a80343299d55e87f25d800a6": {
          "model_module": "@jupyter-widgets/base",
          "model_name": "LayoutModel",
          "model_module_version": "1.2.0",
          "state": {
            "_model_module": "@jupyter-widgets/base",
            "_model_module_version": "1.2.0",
            "_model_name": "LayoutModel",
            "_view_count": null,
            "_view_module": "@jupyter-widgets/base",
            "_view_module_version": "1.2.0",
            "_view_name": "LayoutView",
            "align_content": null,
            "align_items": null,
            "align_self": null,
            "border": null,
            "bottom": null,
            "display": null,
            "flex": null,
            "flex_flow": null,
            "grid_area": null,
            "grid_auto_columns": null,
            "grid_auto_flow": null,
            "grid_auto_rows": null,
            "grid_column": null,
            "grid_gap": null,
            "grid_row": null,
            "grid_template_areas": null,
            "grid_template_columns": null,
            "grid_template_rows": null,
            "height": null,
            "justify_content": null,
            "justify_items": null,
            "left": null,
            "margin": null,
            "max_height": null,
            "max_width": null,
            "min_height": null,
            "min_width": null,
            "object_fit": null,
            "object_position": null,
            "order": null,
            "overflow": null,
            "overflow_x": null,
            "overflow_y": null,
            "padding": null,
            "right": null,
            "top": null,
            "visibility": null,
            "width": null
          }
        },
        "a4e76eed90994f15acb8e3f7edd97a22": {
          "model_module": "@jupyter-widgets/controls",
          "model_name": "DescriptionStyleModel",
          "model_module_version": "1.5.0",
          "state": {
            "_model_module": "@jupyter-widgets/controls",
            "_model_module_version": "1.5.0",
            "_model_name": "DescriptionStyleModel",
            "_view_count": null,
            "_view_module": "@jupyter-widgets/base",
            "_view_module_version": "1.2.0",
            "_view_name": "StyleView",
            "description_width": ""
          }
        },
        "0053b3f4d38148d587183e407fc2ce1d": {
          "model_module": "@jupyter-widgets/base",
          "model_name": "LayoutModel",
          "model_module_version": "1.2.0",
          "state": {
            "_model_module": "@jupyter-widgets/base",
            "_model_module_version": "1.2.0",
            "_model_name": "LayoutModel",
            "_view_count": null,
            "_view_module": "@jupyter-widgets/base",
            "_view_module_version": "1.2.0",
            "_view_name": "LayoutView",
            "align_content": null,
            "align_items": null,
            "align_self": null,
            "border": null,
            "bottom": null,
            "display": null,
            "flex": null,
            "flex_flow": null,
            "grid_area": null,
            "grid_auto_columns": null,
            "grid_auto_flow": null,
            "grid_auto_rows": null,
            "grid_column": null,
            "grid_gap": null,
            "grid_row": null,
            "grid_template_areas": null,
            "grid_template_columns": null,
            "grid_template_rows": null,
            "height": null,
            "justify_content": null,
            "justify_items": null,
            "left": null,
            "margin": null,
            "max_height": null,
            "max_width": null,
            "min_height": null,
            "min_width": null,
            "object_fit": null,
            "object_position": null,
            "order": null,
            "overflow": null,
            "overflow_x": null,
            "overflow_y": null,
            "padding": null,
            "right": null,
            "top": null,
            "visibility": null,
            "width": null
          }
        },
        "2445f93532124497ae2c028462a17213": {
          "model_module": "@jupyter-widgets/controls",
          "model_name": "ButtonStyleModel",
          "model_module_version": "1.5.0",
          "state": {
            "_model_module": "@jupyter-widgets/controls",
            "_model_module_version": "1.5.0",
            "_model_name": "ButtonStyleModel",
            "_view_count": null,
            "_view_module": "@jupyter-widgets/base",
            "_view_module_version": "1.2.0",
            "_view_name": "StyleView",
            "button_color": null,
            "font_weight": ""
          }
        },
        "9567441064b54625a4487536614c0583": {
          "model_module": "@jupyter-widgets/base",
          "model_name": "LayoutModel",
          "model_module_version": "1.2.0",
          "state": {
            "_model_module": "@jupyter-widgets/base",
            "_model_module_version": "1.2.0",
            "_model_name": "LayoutModel",
            "_view_count": null,
            "_view_module": "@jupyter-widgets/base",
            "_view_module_version": "1.2.0",
            "_view_name": "LayoutView",
            "align_content": null,
            "align_items": null,
            "align_self": null,
            "border": null,
            "bottom": null,
            "display": null,
            "flex": null,
            "flex_flow": null,
            "grid_area": null,
            "grid_auto_columns": null,
            "grid_auto_flow": null,
            "grid_auto_rows": null,
            "grid_column": null,
            "grid_gap": null,
            "grid_row": null,
            "grid_template_areas": null,
            "grid_template_columns": null,
            "grid_template_rows": null,
            "height": null,
            "justify_content": null,
            "justify_items": null,
            "left": null,
            "margin": null,
            "max_height": null,
            "max_width": null,
            "min_height": null,
            "min_width": null,
            "object_fit": null,
            "object_position": null,
            "order": null,
            "overflow": null,
            "overflow_x": null,
            "overflow_y": null,
            "padding": null,
            "right": null,
            "top": null,
            "visibility": null,
            "width": null
          }
        },
        "220c52fc0139403fa92f6f30bc820f72": {
          "model_module": "@jupyter-widgets/controls",
          "model_name": "DescriptionStyleModel",
          "model_module_version": "1.5.0",
          "state": {
            "_model_module": "@jupyter-widgets/controls",
            "_model_module_version": "1.5.0",
            "_model_name": "DescriptionStyleModel",
            "_view_count": null,
            "_view_module": "@jupyter-widgets/base",
            "_view_module_version": "1.2.0",
            "_view_name": "StyleView",
            "description_width": ""
          }
        }
      }
    }
  },
  "nbformat": 4,
  "nbformat_minor": 0
}